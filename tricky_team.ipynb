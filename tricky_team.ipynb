{
 "cells": [
  {
   "cell_type": "code",
   "execution_count": 1,
   "id": "0cc02640",
   "metadata": {},
   "outputs": [
    {
     "name": "stdout",
     "output_type": "stream",
     "text": [
      "Requirement already satisfied: igraph in c:\\users\\pawel\\anaconda3\\lib\\site-packages (0.9.9)\n",
      "Requirement already satisfied: texttable>=1.6.2 in c:\\users\\pawel\\anaconda3\\lib\\site-packages (from igraph) (1.6.4)\n"
     ]
    }
   ],
   "source": [
    "!pip install igraph"
   ]
  },
  {
   "cell_type": "code",
   "execution_count": 2,
   "id": "cfb145e1",
   "metadata": {},
   "outputs": [],
   "source": [
    "from igraph import Graph\n",
    "import pandas as pd\n",
    "import numpy as np"
   ]
  },
  {
   "cell_type": "code",
   "execution_count": 3,
   "id": "2afd86e7",
   "metadata": {},
   "outputs": [],
   "source": [
    "# igraph documentation:\n",
    "# https://igraph.org/python/api/latest/igraph.Graph.html\n",
    "# data source:\n",
    "# https://www.kaggle.com/martj42/international-football-results-from-1872-to-2017"
   ]
  },
  {
   "cell_type": "code",
   "execution_count": 4,
   "id": "a973d334",
   "metadata": {},
   "outputs": [],
   "source": [
    "class TeamsGraph():\n",
    "    def __init__(self, from_date:str=None, to_date:str=None, with_friendly:bool=True):\n",
    "        self.data_frame = self.load_data(from_date, to_date, with_friendly)\n",
    "        self.teams = self.load_teams()\n",
    "        self.teams_graph = self.create_graph()\n",
    "    \n",
    "    \n",
    "    def load_data(self, from_date, to_date, with_friendly):\n",
    "        data = pd.read_csv('results.csv')\n",
    "        \n",
    "        if from_date is None:\n",
    "            from_date = data['date'].iloc[0]\n",
    "        if to_date is None:\n",
    "            to_date = data['date'].iloc[-1]\n",
    "            \n",
    "        try:\n",
    "            data = data[pd.to_datetime(data['date']).isin(pd.date_range(from_date, to_date))]\n",
    "        except ValueError:\n",
    "            print('Error! Incorrect data format, use format \"yyyy-mm-dd\"')\n",
    "            \n",
    "        if with_friendly is False:\n",
    "            data = data[~(data['tournament'] == 'Friendly')]\n",
    "        data = data.dropna()\n",
    "        return data\n",
    "    \n",
    "    \n",
    "    def load_teams(self):\n",
    "        list_of_teams = list(set(list(self.data_frame[['home_team', 'away_team']].values.flatten())))\n",
    "        list_of_teams.sort()\n",
    "        teams_dict = dict()\n",
    "        for idx, team in enumerate(list_of_teams):\n",
    "            teams_dict[team] = idx\n",
    "        return teams_dict\n",
    "    \n",
    "    \n",
    "    def create_graph(self):\n",
    "        teams_graph = Graph(directed=True)\n",
    "        teams_graph.add_vertices(n=len(self.teams.keys()), attributes=self.teams)\n",
    "\n",
    "        for idx in self.data_frame.index:\n",
    "            team1 = self.teams[self.data_frame.loc[idx, 'home_team']]\n",
    "            team2 = self.teams[self.data_frame.loc[idx, 'away_team']]\n",
    "            score1 = self.data_frame.loc[idx, 'home_score']\n",
    "            score2 = self.data_frame.loc[idx, 'away_score']\n",
    "            if score1 > score2 and not teams_graph.are_connected(team1, team2):\n",
    "                teams_graph.add_edge(team1, team2, match_id=idx)\n",
    "            elif score2 > score1 and not teams_graph.are_connected(team2, team1):\n",
    "                teams_graph.add_edge(team2, team1, match_id=idx)\n",
    "        return teams_graph\n",
    "    \n",
    "    \n",
    "    def erdos_number_between(self, team1:str, team2:str):\n",
    "        t1 = self.teams[team1]\n",
    "        t2 = self.teams[team2]\n",
    "        return self.teams_graph.shortest_paths(t1, t2)[0][0]\n",
    "    \n",
    "    \n",
    "    def find_path_between(self, team1: str, team2: str):\n",
    "        # the path is chosen for the earliest oldest match \n",
    "        # return None if there is no path between\n",
    "        if team1 not in self.teams or team2 not in self.teams:\n",
    "            raise NameError('Incorrect team name')\n",
    "        t1 = self.teams[team1]\n",
    "        t2 = self.teams[team2]\n",
    "        paths = self.teams_graph.get_all_shortest_paths(t1, t2)\n",
    "        if len(paths) == 0:\n",
    "            return self.to_str(None)\n",
    "    \n",
    "        joined_dates = []\n",
    "        for v in paths:\n",
    "            dates = []\n",
    "            for i in range(len(v)-1):\n",
    "                match_id = self.teams_graph.es.select(_from=v[i], _to=v[i+1])[0]['match_id']\n",
    "                date = self.data_frame.loc[match_id, 'date']\n",
    "                dates.append(date)\n",
    "            dates.sort()\n",
    "            joined_dates.append('#'.join(dates))\n",
    "        \n",
    "        matches_id = []\n",
    "        v = paths[np.argmax(joined_dates)]\n",
    "        frame = pd.DataFrame()\n",
    "        for i in range(len(v)-1):\n",
    "            match_id = self.teams_graph.es.select(_from=v[i], _to=v[i+1])[0]['match_id']\n",
    "            matches_id.append(match_id)\n",
    "            frame = pd.concat([frame, self.data_frame.loc[match_id:match_id]])\n",
    "        return self.to_str(frame)\n",
    "   \n",
    "    \n",
    "    def largest_erdos_number_for_team(self, team:str):\n",
    "        if team not in self.teams:\n",
    "            raise NameError('Incorrect team name')\n",
    "        return int(self.teams_graph.eccentricity(self.teams[team], mode='out'))\n",
    "    \n",
    "    \n",
    "    def longest_path_for_team(self, team:str):\n",
    "        if team not in self.teams:\n",
    "            raise NameError('Incorrect team name')\n",
    "        reversed_dict = dict(map(reversed, self.teams.items()))\n",
    "        farthest_team = reversed_dict[self.teams_graph.bfs(self.teams[team])[0][-1]]\n",
    "        return self.find_path_between(team, farthest_team)\n",
    "    \n",
    "    \n",
    "    def largest_erdos_number(self):\n",
    "        return self.teams_graph.diameter()\n",
    "    \n",
    "    \n",
    "    def longest_path(self):\n",
    "        path = self.teams_graph.get_diameter()\n",
    "        reversed_dict = dict(map(reversed, self.teams.items()))\n",
    "        return self.find_path_between(reversed_dict[path[0]], reversed_dict[path[-1]])\n",
    "    \n",
    "    \n",
    "    def to_str(self, df):\n",
    "        if isinstance(df, pd.DataFrame):\n",
    "            statement = ''\n",
    "            for i in range(len(df)):\n",
    "                win_score = int(df.loc[df.index[i]]['home_score'])\n",
    "                lose_score = int(df.loc[df.index[i]]['away_score'])\n",
    "                if lose_score < win_score:\n",
    "                    win_team = df.loc[df.index[i]]['home_team'].rjust(30)\n",
    "                    lose_team = df.loc[df.index[i]]['away_team'].ljust(30)\n",
    "                else:\n",
    "                    win_team = df.loc[df.index[i]]['away_team'].rjust(30)\n",
    "                    lose_team = df.loc[df.index[i]]['home_team'].ljust(30)\n",
    "                    win_score, lose_score = lose_score, win_score\n",
    "                if i == 0:\n",
    "                    best_team = win_team\n",
    "                elif i == len(df)-1:\n",
    "                    worst_team = lose_team.rstrip()\n",
    "                date = df.loc[df.index[i]]['date']\n",
    "                tournament = df.loc[df.index[i]]['tournament']\n",
    "                statement += win_team + f' ( {win_score} - {lose_score} ) ' + lose_team + f'({date}, {tournament})' + '\\n'\n",
    "            statement += '\\n' + best_team + '     >     ' + worst_team + ' (???)'\n",
    "            print(statement)\n",
    "#             return statement\n",
    "        elif df is None:\n",
    "            print('There is no path between teams')\n",
    "#             return None\n",
    "        else:\n",
    "            raise AttributeError('Cannot use function to_string here')"
   ]
  },
  {
   "cell_type": "markdown",
   "id": "fbe06a28",
   "metadata": {},
   "source": [
    "##### Przykładowe wywoławnia"
   ]
  },
  {
   "cell_type": "code",
   "execution_count": 5,
   "id": "7beb2896",
   "metadata": {},
   "outputs": [
    {
     "name": "stdout",
     "output_type": "stream",
     "text": [
      "Wall time: 2.75 s\n"
     ]
    }
   ],
   "source": [
    "%%time\n",
    "x = TeamsGraph()"
   ]
  },
  {
   "cell_type": "code",
   "execution_count": 6,
   "id": "a9b0d0af",
   "metadata": {},
   "outputs": [
    {
     "data": {
      "text/plain": [
       "3"
      ]
     },
     "execution_count": 6,
     "metadata": {},
     "output_type": "execute_result"
    }
   ],
   "source": [
    "x.erdos_number_between('Puerto Rico', 'Spain')"
   ]
  },
  {
   "cell_type": "code",
   "execution_count": 7,
   "id": "23e7369c",
   "metadata": {},
   "outputs": [
    {
     "name": "stdout",
     "output_type": "stream",
     "text": [
      "                   Puerto Rico ( 2 - 0 ) Bermuda                       (2008-01-16, Friendly)\n",
      "                       Bermuda ( 4 - 0 ) United States                 (1973-03-17, Friendly)\n",
      "                 United States ( 2 - 0 ) Spain                         (2009-06-24, Confederations Cup)\n",
      "\n",
      "                   Puerto Rico     >     Spain (???)\n"
     ]
    }
   ],
   "source": [
    "x.find_path_between('Puerto Rico', 'Spain')"
   ]
  },
  {
   "cell_type": "code",
   "execution_count": 8,
   "id": "b5175e2a",
   "metadata": {},
   "outputs": [
    {
     "data": {
      "text/plain": [
       "6"
      ]
     },
     "execution_count": 8,
     "metadata": {},
     "output_type": "execute_result"
    }
   ],
   "source": [
    "x.largest_erdos_number_for_team('Guyana')"
   ]
  },
  {
   "cell_type": "code",
   "execution_count": 9,
   "id": "394e5b38",
   "metadata": {},
   "outputs": [
    {
     "name": "stdout",
     "output_type": "stream",
     "text": [
      "                        Guyana ( 2 - 0 ) Jamaica                       (1947-11-06, Friendly)\n",
      "                       Jamaica ( 2 - 1 ) Saudi Arabia                  (1999-07-13, Friendly)\n",
      "                  Saudi Arabia ( 2 - 0 ) Northern Cyprus               (1980-09-30, Friendly)\n",
      "               Northern Cyprus ( 2 - 1 ) Székely Land                  (2017-06-09, CONIFA European Football Cup)\n",
      "                  Székely Land ( 4 - 0 ) Western Armenia               (2018-06-05, CONIFA World Football Cup)\n",
      "               Western Armenia ( 4 - 0 ) Kabylia                       (2018-06-03, CONIFA World Football Cup)\n",
      "\n",
      "                        Guyana     >     Kabylia (???)\n"
     ]
    }
   ],
   "source": [
    "x.longest_path_for_team('Guyana')"
   ]
  },
  {
   "cell_type": "code",
   "execution_count": 10,
   "id": "4be9b570",
   "metadata": {},
   "outputs": [
    {
     "data": {
      "text/plain": [
       "10"
      ]
     },
     "execution_count": 10,
     "metadata": {},
     "output_type": "execute_result"
    }
   ],
   "source": [
    "x.largest_erdos_number()"
   ]
  },
  {
   "cell_type": "code",
   "execution_count": 11,
   "id": "dc340370",
   "metadata": {},
   "outputs": [
    {
     "name": "stdout",
     "output_type": "stream",
     "text": [
      "            Parishes of Jersey ( 2 - 1 ) Yorkshire                     (2018-10-21, Friendly)\n",
      "                     Yorkshire ( 6 - 2 ) Somaliland                    (2019-05-04, Friendly)\n",
      "                    Somaliland ( 7 - 0 ) Székely Land                  (2016-06-03, CONIFA World Football Cup)\n",
      "                  Székely Land ( 3 - 1 ) Abkhazia                      (2017-06-10, CONIFA European Football Cup)\n",
      "                      Abkhazia ( 2 - 0 ) Northern Cyprus               (2016-06-04, CONIFA World Football Cup)\n",
      "               Northern Cyprus ( 5 - 1 ) Tajikistan                    (2006-11-20, ELF Cup)\n",
      "                    Tajikistan ( 1 - 0 ) Jordan                        (2021-02-05, Friendly)\n",
      "                        Jordan ( 1 - 0 ) Nigeria                       (2013-10-28, Friendly)\n",
      "                       Nigeria ( 4 - 1 ) Argentina                     (2011-06-01, Friendly)\n",
      "                     Argentina ( 3 - 0 ) Catalonia                     (2004-12-29, Friendly)\n",
      "\n",
      "            Parishes of Jersey     >     Catalonia (???)\n"
     ]
    }
   ],
   "source": [
    "x.longest_path()"
   ]
  },
  {
   "cell_type": "code",
   "execution_count": 12,
   "id": "2fa6c3bf",
   "metadata": {},
   "outputs": [
    {
     "name": "stdout",
     "output_type": "stream",
     "text": [
      "Wall time: 447 ms\n"
     ]
    }
   ],
   "source": [
    "%%time\n",
    "y = TeamsGraph(from_date='01.01.2000', to_date='12.12.2010', with_friendly=False)"
   ]
  },
  {
   "cell_type": "code",
   "execution_count": 13,
   "id": "91ae9fe7",
   "metadata": {},
   "outputs": [
    {
     "name": "stdout",
     "output_type": "stream",
     "text": [
      "                 Liechtenstein ( 4 - 0 ) Luxembourg                    (2004-10-13, FIFA World Cup qualification)\n",
      "                    Luxembourg ( 1 - 0 ) Belarus                       (2007-10-13, UEFA Euro qualification)\n",
      "                       Belarus ( 1 - 0 ) France                        (2010-09-03, UEFA Euro qualification)\n",
      "\n",
      "                 Liechtenstein     >     France (???)\n"
     ]
    }
   ],
   "source": [
    "y.find_path_between('Liechtenstein', 'France')"
   ]
  },
  {
   "cell_type": "code",
   "execution_count": 14,
   "id": "ee83d222",
   "metadata": {},
   "outputs": [
    {
     "name": "stdout",
     "output_type": "stream",
     "text": [
      "                   Afghanistan ( 2 - 1 ) Kyrgyzstan                    (2003-03-16, AFC Asian Cup qualification)\n",
      "                    Kyrgyzstan ( 2 - 0 ) Jordan                        (2007-10-18, FIFA World Cup qualification)\n",
      "                        Jordan ( 1 - 0 ) Romania                       (2001-01-11, Millennium Cup)\n",
      "                       Romania ( 3 - 2 ) England                       (2000-06-20, UEFA Euro)\n",
      "                       England ( 2 - 0 ) Trinidad and Tobago           (2006-06-15, FIFA World Cup)\n",
      "           Trinidad and Tobago ( 1 - 0 ) Suriname                      (2004-11-28, CFU Caribbean Cup qualification)\n",
      "                      Suriname ( 4 - 2 ) Bonaire                       (2010-10-29, ABCS Tournament)\n",
      "\n",
      "                   Afghanistan     >     Bonaire (???)\n"
     ]
    }
   ],
   "source": [
    "y.longest_path_for_team('Afghanistan')"
   ]
  },
  {
   "cell_type": "code",
   "execution_count": 15,
   "id": "6c1f0dcd",
   "metadata": {},
   "outputs": [
    {
     "name": "stdout",
     "output_type": "stream",
     "text": [
      "                          Guam ( 1 - 0 ) Mongolia                      (2009-03-11, EAFF Championship)\n",
      "                      Mongolia ( 2 - 1 ) Macau                         (2009-03-13, EAFF Championship)\n",
      "                         Macau ( 1 - 0 ) Brunei                        (2000-02-13, AFC Asian Cup qualification)\n",
      "                        Brunei ( 2 - 1 ) Nepal                         (2006-04-04, AFC Challenge Cup)\n",
      "                         Nepal ( 4 - 1 ) Pakistan                      (2008-06-07, SAFF Cup)\n",
      "                      Pakistan ( 1 - 0 ) India                         (2003-01-10, SAFF Cup)\n",
      "                         India ( 5 - 3 ) Zimbabwe                      (2003-10-29, Afro-Asian Games)\n",
      "                      Zimbabwe ( 2 - 1 ) Ghana                         (2006-01-31, African Cup of Nations)\n",
      "                         Ghana ( 2 - 1 ) United States                 (2006-06-22, FIFA World Cup)\n",
      "                 United States ( 2 - 0 ) Martinique                    (2003-07-14, Gold Cup)\n",
      "                    Martinique ( 1 - 0 ) Suriname                      (2006-11-08, CFU Caribbean Cup qualification)\n",
      "                      Suriname ( 4 - 2 ) Bonaire                       (2010-10-29, ABCS Tournament)\n",
      "\n",
      "                          Guam     >     Bonaire (???)\n"
     ]
    }
   ],
   "source": [
    "y.longest_path()"
   ]
  }
 ],
 "metadata": {
  "kernelspec": {
   "display_name": "Python 3 (ipykernel)",
   "language": "python",
   "name": "python3"
  },
  "language_info": {
   "codemirror_mode": {
    "name": "ipython",
    "version": 3
   },
   "file_extension": ".py",
   "mimetype": "text/x-python",
   "name": "python",
   "nbconvert_exporter": "python",
   "pygments_lexer": "ipython3",
   "version": "3.9.7"
  }
 },
 "nbformat": 4,
 "nbformat_minor": 5
}
